{
 "cells": [
  {
   "cell_type": "code",
   "execution_count": 1,
   "id": "f0290076",
   "metadata": {},
   "outputs": [
    {
     "ename": "IndentationError",
     "evalue": "unindent does not match any outer indentation level (forecasting_func.py, line 16)",
     "output_type": "error",
     "traceback": [
      "Traceback \u001b[1;36m(most recent call last)\u001b[0m:\n",
      "  File \u001b[0;32m\"C:\\Users\\Swagat\\anaconda3\\lib\\site-packages\\IPython\\core\\interactiveshell.py\"\u001b[0m, line \u001b[0;32m3437\u001b[0m, in \u001b[0;35mrun_code\u001b[0m\n    exec(code_obj, self.user_global_ns, self.user_ns)\n",
      "\u001b[1;36m  File \u001b[1;32m\"<ipython-input-1-b12871d7c050>\"\u001b[1;36m, line \u001b[1;32m17\u001b[1;36m, in \u001b[1;35m<module>\u001b[1;36m\u001b[0m\n\u001b[1;33m    from forecasting_func import timeSeriesMultivariate, timeSeriesEvaluationMetrics\u001b[0m\n",
      "\u001b[1;36m  File \u001b[1;32m\"F:\\gHeek\\DPS\\github\\Accident-Forcasting-using-LSTM---DPS-AI-Track\\forecasting_func.py\"\u001b[1;36m, line \u001b[1;32m16\u001b[0m\n\u001b[1;33m    def timeSeriesEvaluationMetrics(y_true, y_pred):\u001b[0m\n\u001b[1;37m                                                    ^\u001b[0m\n\u001b[1;31mIndentationError\u001b[0m\u001b[1;31m:\u001b[0m unindent does not match any outer indentation level\n"
     ]
    }
   ],
   "source": [
    "# Imports\n",
    "\n",
    "import pandas as pd\n",
    "import numpy as np\n",
    "import matplotlib.pyplot as plt\n",
    "import seaborn as sns\n",
    "\n",
    "import tensorflow as tf \n",
    "import plotly.express as px\n",
    "from sklearn import metrics\n",
    "from sklearn.linear_model import LinearRegression, Lasso, Ridge\n",
    "from sklearn.model_selection import train_test_split, KFold\n",
    "from sklearn.preprocessing import PolynomialFeatures, LabelEncoder, MinMaxScaler\n",
    "from tensorflow.keras.models import Model\n",
    "from tensorflow.keras.models import load_model\n",
    "\n",
    "from forecasting_func import timeSeriesMultivariate, timeSeriesEvaluationMetrics"
   ]
  },
  {
   "cell_type": "code",
   "execution_count": null,
   "id": "f8e1eae3",
   "metadata": {},
   "outputs": [],
   "source": [
    "# Reading CSV dataset with ANSI encoding as it includes German Tokens\n",
    "\n",
    "df = pd.read_csv(r\"dataset/accidents.csv\", encoding = \"ANSI\")\n",
    "df.head()"
   ]
  },
  {
   "cell_type": "code",
   "execution_count": null,
   "id": "d3e4116e",
   "metadata": {},
   "outputs": [],
   "source": [
    "# Recognizing first 5 columns for further analysis\n",
    "\n",
    "df = df.iloc[:, :5]\n",
    "df = df.dropna()\n",
    "df.head()"
   ]
  },
  {
   "cell_type": "code",
   "execution_count": null,
   "id": "09f28ea2",
   "metadata": {},
   "outputs": [],
   "source": [
    "# Renaming Columns to English Counterparts for universal comprehension\n",
    "\n",
    "df = df.rename(\n",
    "    columns = {\n",
    "        'MONATSZAHL':'Category',\n",
    "        'AUSPRAEGUNG':'AccidentType',\n",
    "        'JAHR':'Year',\n",
    "        'MONAT':'Month',\n",
    "        'WERT':'Value',        \n",
    "    }\n",
    ")\n",
    "df.head()"
   ]
  },
  {
   "cell_type": "code",
   "execution_count": null,
   "id": "95bd45f0",
   "metadata": {},
   "outputs": [],
   "source": [
    "# Basic Preprocessing to drop yearly summary value records\n",
    "# More translation of Categorical Values for ease of comprehension\n",
    "\n",
    "df.drop(df[df['Month'] == \"Summe\"].index, inplace = True)\n",
    "\n",
    "for index, row in df.iterrows():\n",
    "    if row['Category'] == \"Alkoholunf?le\":\n",
    "        df['Category'][index] = \"Alcohol Accidents\"\n",
    "    if row['Category'] == \"Fluchtunf?le\":\n",
    "        df['Category'][index] = \"Escape Accidents\"\n",
    "    if row['Category'] == \"Verkehrsunf?le\":\n",
    "        df['Category'][index] = \"Traffic Accidents\"\n",
    "    if row['AccidentType'] == \"insgesamt\":\n",
    "            df['AccidentType'][index] = \"subtotal\"\n",
    "    if row['AccidentType'] == \"Verletzte und Get?ete\":\n",
    "            df['AccidentType'][index] = \"injured and killed\"\n",
    "    if row['AccidentType'] == \"mit Personensch?en\":\n",
    "            df['AccidentType'][index] = \"with people\"\n",
    "        \n",
    "df.head()"
   ]
  },
  {
   "cell_type": "code",
   "execution_count": null,
   "id": "128fd6b3",
   "metadata": {},
   "outputs": [],
   "source": [
    "# Counters for each category of accidents is counted manually as the dataframe on itself cannot fully portray this information\n",
    "# As the subtotal type and injured, death statistics are not mutually exclusive\n",
    "\n",
    "ctr_alcohol = 0\n",
    "ctr_escape = 0\n",
    "ctr_traffic = 0\n",
    "\n",
    "for index, row in df.iterrows():\n",
    "    if row['Month'] != \"Summe\":\n",
    "        if row[\"Category\"] == \"Alcohol Accidents\" and row[\"AccidentType\"] == \"subtotal\":\n",
    "            ctr_alcohol += row[\"Value\"]\n",
    "        if row[\"Category\"] == \"Escape Accidents\" and row[\"AccidentType\"] == \"subtotal\":\n",
    "            ctr_escape += row[\"Value\"]\n",
    "        if row[\"Category\"] == \"Traffic Accidents\" and row[\"AccidentType\"] == \"subtotal\":\n",
    "            ctr_traffic += row[\"Value\"]\n",
    "\n",
    "# Generating dictionary for plotting\n",
    "accident_nos = {\n",
    "    \"Alcohol Accidents\": ctr_alcohol, \n",
    "    \"Escape Accidents\": ctr_escape, \n",
    "    \"Traffic Accidents\": ctr_traffic\n",
    "}\n",
    "print(accident_nos)"
   ]
  },
  {
   "cell_type": "code",
   "execution_count": null,
   "id": "753fccb6",
   "metadata": {},
   "outputs": [],
   "source": [
    "# Histogram Visualization\n",
    "\n",
    "plt.figure(figsize = (16, 9))\n",
    "plt.bar(accident_nos.keys(), accident_nos.values(), width=0.25)"
   ]
  },
  {
   "cell_type": "code",
   "execution_count": null,
   "id": "4685da1a",
   "metadata": {},
   "outputs": [],
   "source": [
    "# Label Encoding Path.....\n",
    "\n",
    "# for i in df.select_dtypes('object').columns:\n",
    "#     le = LabelEncoder().fit(df[i])\n",
    "#     df[i] = le.transform(df[i]) "
   ]
  },
  {
   "cell_type": "code",
   "execution_count": null,
   "id": "2e1193ac",
   "metadata": {},
   "outputs": [],
   "source": [
    "# One Hot Encoding for better results\n",
    "\n",
    "one_hot_encoded_data = pd.get_dummies(df, columns = ['Category', 'AccidentType'])\n",
    "one_hot_encoded_data = one_hot_encoded_data.iloc[:, :-1]\n",
    "one_hot_encoded_data = one_hot_encoded_data.drop(['Category_Traffic Accidents'], axis = 1)\n",
    "one_hot_encoded_data"
   ]
  },
  {
   "cell_type": "code",
   "execution_count": null,
   "id": "a204a286",
   "metadata": {},
   "outputs": [],
   "source": [
    "# More preprocessing to only get the month value from Months Column\n",
    "\n",
    "for index, row in one_hot_encoded_data.iterrows():\n",
    "    one_hot_encoded_data.at[index, 'Month'] = row['Month'][-2:]\n",
    "    one_hot_encoded_data.at[index, 'Month'] = int(row['Month'])\n",
    "    one_hot_encoded_data.at[index, 'Year'] = int(row['Year'])\n",
    "    \n",
    "one_hot_encoded_data.head()"
   ]
  },
  {
   "cell_type": "code",
   "execution_count": null,
   "id": "e6dcd1cb",
   "metadata": {},
   "outputs": [],
   "source": [
    "# fitting multivariate data for forecasting into Min Max Scalers\n",
    "\n",
    "X_scaler = MinMaxScaler()\n",
    "Y_scaler = MinMaxScaler()\n",
    "X_df = X_scaler.fit_transform(one_hot_encoded_data[['Category_Alcohol Accidents', 'Category_Escape Accidents', 'AccidentType_injured and killed', 'AccidentType_subtotal','Year', 'Month', 'Value']])\n",
    "Y_df = Y_scaler.fit_transform(one_hot_encoded_data[['Value']]) "
   ]
  },
  {
   "cell_type": "code",
   "execution_count": null,
   "id": "1b550c13",
   "metadata": {},
   "outputs": [],
   "source": [
    "# Hyperparameters for Time Series Function Forecasting\n",
    "\n",
    "hist_window = 48\n",
    "horizon = 10\n",
    "TRAIN_SPLIT = 1400\n",
    "x_train, y_train = timeSeriesMultivariate(X_df, Y_df, 0, TRAIN_SPLIT, hist_window, horizon)\n",
    "x_vali, y_vali = timeSeriesMultivariate(X_df, Y_df, TRAIN_SPLIT, None, hist_window, horizon) "
   ]
  },
  {
   "cell_type": "code",
   "execution_count": null,
   "id": "b23e2279",
   "metadata": {},
   "outputs": [],
   "source": [
    "# Model Training Hyperparameters\n",
    "\n",
    "batch_size = 256\n",
    "buffer_size = 256\n",
    "train_data = tf.data.Dataset.from_tensor_slices((x_train, y_train))\n",
    "train_data = train_data.cache().shuffle(buffer_size).batch(batch_size).repeat()\n",
    "val_data = tf.data.Dataset.from_tensor_slices((x_vali, y_vali))\n",
    "val_data = val_data.batch(batch_size).repeat()"
   ]
  },
  {
   "cell_type": "code",
   "execution_count": null,
   "id": "967bf709",
   "metadata": {},
   "outputs": [],
   "source": [
    "lstm_model = tf.keras.models.Sequential([\n",
    "    tf.keras.layers.Bidirectional(tf.keras.layers.LSTM(128, return_sequences=True), input_shape=x_train.shape[-2:]),\n",
    "    tf.keras.layers.Dense(32, activation='tanh'),\n",
    "    tf.keras.layers.Bidirectional(tf.keras.layers.LSTM(128)),\n",
    "    tf.keras.layers.Dense(32, activation='tanh'),\n",
    "    tf.keras.layers.Dense(32, activation='tanh'),\n",
    "    tf.keras.layers.Dropout(0.20),\n",
    "    tf.keras.layers.Dense(units=horizon),\n",
    "])\n",
    "lstm_model.compile(optimizer='adam', loss='mse')\n",
    "lstm_model.summary() "
   ]
  },
  {
   "cell_type": "code",
   "execution_count": null,
   "id": "75bbf463",
   "metadata": {},
   "outputs": [],
   "source": [
    "# Model save files, callbacks, and checkpoints if necessary\n",
    "\n",
    "early_stopings = tf.keras.callbacks.EarlyStopping(monitor='val_loss', min_delta=0, patience=10, verbose=1, mode='min')\n",
    "checkpoint =  tf.keras.callbacks.ModelCheckpoint(model_path, monitor='val_loss', save_best_only=True, mode='min', verbose=0)\n",
    "callbacks=[early_stopings,checkpoint] "
   ]
  },
  {
   "cell_type": "code",
   "execution_count": null,
   "id": "9253ebab",
   "metadata": {},
   "outputs": [],
   "source": [
    "history = Model()"
   ]
  },
  {
   "cell_type": "code",
   "execution_count": null,
   "id": "4d1ed0e3",
   "metadata": {},
   "outputs": [],
   "source": [
    "# Training the model on all the above parameters and settings, excluding early stopping to attain better yield\n",
    "\n",
    "history = lstm_model.fit(\n",
    "    train_data,\n",
    "    epochs = 40,\n",
    "    steps_per_epoch = 100,\n",
    "    validation_data = val_data,\n",
    "    validation_steps = 50,\n",
    "    verbose = 1,\n",
    "    # callbacks=callbacks\n",
    ")"
   ]
  },
  {
   "cell_type": "code",
   "execution_count": null,
   "id": "f8b54fd2",
   "metadata": {},
   "outputs": [],
   "source": [
    "plt.figure(figsize = (16, 9))\n",
    "plt.plot(history.history['loss'])\n",
    "plt.plot(history.history['val_loss'])\n",
    "plt.title('Accident LSTM Model loss plot')\n",
    "plt.ylabel('loss axis --->')\n",
    "plt.xlabel('epochs --->')\n",
    "plt.legend(['train set loss', 'validation set loss'])\n",
    "plt.savefig(\"./plots/loss_curve\")\n",
    "plt.show()"
   ]
  },
  {
   "cell_type": "code",
   "execution_count": null,
   "id": "de526374",
   "metadata": {},
   "outputs": [],
   "source": [
    "# Saving model\n",
    "\n",
    "history.model.save('./models/GermanAccidents.h5')\n",
    "history.model.save('./models/GermanAccidentsWeights.h5')"
   ]
  },
  {
   "cell_type": "code",
   "execution_count": null,
   "id": "d897b0b0",
   "metadata": {},
   "outputs": [],
   "source": [
    "# Loading Model\n",
    "\n",
    "loadedModel = load_model('./models/GermanAccidents.h5')"
   ]
  },
  {
   "cell_type": "code",
   "execution_count": null,
   "id": "565dd21f",
   "metadata": {},
   "outputs": [],
   "source": []
  }
 ],
 "metadata": {
  "kernelspec": {
   "display_name": "Python 3",
   "language": "python",
   "name": "python3"
  },
  "language_info": {
   "codemirror_mode": {
    "name": "ipython",
    "version": 3
   },
   "file_extension": ".py",
   "mimetype": "text/x-python",
   "name": "python",
   "nbconvert_exporter": "python",
   "pygments_lexer": "ipython3",
   "version": "3.8.8"
  }
 },
 "nbformat": 4,
 "nbformat_minor": 5
}
