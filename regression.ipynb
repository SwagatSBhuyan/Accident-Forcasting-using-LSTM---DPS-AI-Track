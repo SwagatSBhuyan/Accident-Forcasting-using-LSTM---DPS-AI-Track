{
 "cells": [
  {
   "cell_type": "code",
   "execution_count": 1,
   "id": "1332a3b4",
   "metadata": {},
   "outputs": [],
   "source": [
    "# Imports\n",
    "\n",
    "import pandas as pd\n",
    "import numpy as np\n",
    "import matplotlib.pyplot as plt\n",
    "import seaborn as sns\n",
    "\n",
    "import tensorflow as tf \n",
    "import plotly.express as px\n",
    "from sklearn import metrics\n",
    "from sklearn import linear_model\n",
    "from sklearn.linear_model import LinearRegression, Lasso, Ridge\n",
    "from sklearn.model_selection import train_test_split, KFold\n",
    "from sklearn.preprocessing import PolynomialFeatures, LabelEncoder, MinMaxScaler\n",
    "from tensorflow.keras.models import Model\n",
    "from tensorflow.keras.models import load_model\n",
    "\n",
    "from forecasting_func import timeSeriesMultivariate, timeSeriesEvaluationMetrics"
   ]
  },
  {
   "cell_type": "code",
   "execution_count": 2,
   "id": "1931a57c",
   "metadata": {
    "scrolled": true
   },
   "outputs": [
    {
     "data": {
      "text/html": [
       "<div>\n",
       "<style scoped>\n",
       "    .dataframe tbody tr th:only-of-type {\n",
       "        vertical-align: middle;\n",
       "    }\n",
       "\n",
       "    .dataframe tbody tr th {\n",
       "        vertical-align: top;\n",
       "    }\n",
       "\n",
       "    .dataframe thead th {\n",
       "        text-align: right;\n",
       "    }\n",
       "</style>\n",
       "<table border=\"1\" class=\"dataframe\">\n",
       "  <thead>\n",
       "    <tr style=\"text-align: right;\">\n",
       "      <th></th>\n",
       "      <th>Date</th>\n",
       "      <th>traffic_injured_and_killed</th>\n",
       "      <th>traffic_with_people</th>\n",
       "      <th>traffic_subtotal</th>\n",
       "      <th>escape_injured_and_killed</th>\n",
       "      <th>escape_subtotal</th>\n",
       "      <th>alcohol_injured_and_killed</th>\n",
       "      <th>alcohol_subtotal</th>\n",
       "    </tr>\n",
       "  </thead>\n",
       "  <tbody>\n",
       "    <tr>\n",
       "      <th>247</th>\n",
       "      <td>202005</td>\n",
       "      <td>464.0</td>\n",
       "      <td>416.0</td>\n",
       "      <td>3193.0</td>\n",
       "      <td>34.0</td>\n",
       "      <td>859.0</td>\n",
       "      <td>26.0</td>\n",
       "      <td>40.0</td>\n",
       "    </tr>\n",
       "    <tr>\n",
       "      <th>248</th>\n",
       "      <td>202004</td>\n",
       "      <td>363.0</td>\n",
       "      <td>314.0</td>\n",
       "      <td>2251.0</td>\n",
       "      <td>34.0</td>\n",
       "      <td>607.0</td>\n",
       "      <td>15.0</td>\n",
       "      <td>26.0</td>\n",
       "    </tr>\n",
       "    <tr>\n",
       "      <th>249</th>\n",
       "      <td>202003</td>\n",
       "      <td>334.0</td>\n",
       "      <td>270.0</td>\n",
       "      <td>2825.0</td>\n",
       "      <td>33.0</td>\n",
       "      <td>744.0</td>\n",
       "      <td>13.0</td>\n",
       "      <td>27.0</td>\n",
       "    </tr>\n",
       "    <tr>\n",
       "      <th>250</th>\n",
       "      <td>202002</td>\n",
       "      <td>355.0</td>\n",
       "      <td>306.0</td>\n",
       "      <td>3271.0</td>\n",
       "      <td>34.0</td>\n",
       "      <td>870.0</td>\n",
       "      <td>19.0</td>\n",
       "      <td>40.0</td>\n",
       "    </tr>\n",
       "    <tr>\n",
       "      <th>251</th>\n",
       "      <td>202001</td>\n",
       "      <td>360.0</td>\n",
       "      <td>301.0</td>\n",
       "      <td>3139.0</td>\n",
       "      <td>28.0</td>\n",
       "      <td>791.0</td>\n",
       "      <td>11.0</td>\n",
       "      <td>28.0</td>\n",
       "    </tr>\n",
       "  </tbody>\n",
       "</table>\n",
       "</div>"
      ],
      "text/plain": [
       "       Date  traffic_injured_and_killed  traffic_with_people  \\\n",
       "247  202005                       464.0                416.0   \n",
       "248  202004                       363.0                314.0   \n",
       "249  202003                       334.0                270.0   \n",
       "250  202002                       355.0                306.0   \n",
       "251  202001                       360.0                301.0   \n",
       "\n",
       "     traffic_subtotal  escape_injured_and_killed  escape_subtotal  \\\n",
       "247            3193.0                       34.0            859.0   \n",
       "248            2251.0                       34.0            607.0   \n",
       "249            2825.0                       33.0            744.0   \n",
       "250            3271.0                       34.0            870.0   \n",
       "251            3139.0                       28.0            791.0   \n",
       "\n",
       "     alcohol_injured_and_killed  alcohol_subtotal  \n",
       "247                        26.0              40.0  \n",
       "248                        15.0              26.0  \n",
       "249                        13.0              27.0  \n",
       "250                        19.0              40.0  \n",
       "251                        11.0              28.0  "
      ]
     },
     "execution_count": 2,
     "metadata": {},
     "output_type": "execute_result"
    }
   ],
   "source": [
    "# Reading CSV dataset with ANSI encoding as it includes German Tokens\n",
    "\n",
    "df = pd.read_csv(r\"dataset/accident_by_date_insgesamt.csv\", encoding = \"ANSI\")\n",
    "df.rename(columns = {'Unnamed: 0':'Date'}, inplace = True)\n",
    "df.tail()"
   ]
  },
  {
   "cell_type": "code",
   "execution_count": 3,
   "id": "345afdba",
   "metadata": {},
   "outputs": [],
   "source": [
    "# Regression Setter for Alkoholunfälle: insgesamt\n",
    "\n",
    "X = df['Date']\n",
    "x = pd.DataFrame(X)\n",
    "y_alcohol_subtotal = df['alcohol_subtotal']"
   ]
  },
  {
   "cell_type": "code",
   "execution_count": 4,
   "id": "ca0a3985",
   "metadata": {},
   "outputs": [
    {
     "name": "stdout",
     "output_type": "stream",
     "text": [
      "Score of model:  0.6721873134964186\n"
     ]
    }
   ],
   "source": [
    "x_train, x_test, y_train, y_test = train_test_split(x, y_alcohol_subtotal, test_size = 0.1)\n",
    "poly_reg = PolynomialFeatures(degree = 2)\n",
    "x_train = poly_reg.fit_transform(x_train)\n",
    "x = poly_reg.fit_transform(x)\n",
    "reg = LinearRegression()\n",
    "reg.fit(x_train, y_train)\n",
    "reg.fit(x, y_alcohol_subtotal)\n",
    "score = reg.score(poly_reg.fit_transform(x_test), y_test)\n",
    "print('Score of model: ', score)"
   ]
  },
  {
   "cell_type": "code",
   "execution_count": 6,
   "id": "4be48e84",
   "metadata": {},
   "outputs": [
    {
     "data": {
      "text/plain": [
       "39.03440812509507"
      ]
     },
     "execution_count": 6,
     "metadata": {},
     "output_type": "execute_result"
    }
   ],
   "source": [
    "reg.predict(poly_reg.fit_transform([[202101]]))[0]"
   ]
  },
  {
   "cell_type": "code",
   "execution_count": null,
   "id": "ede0b980",
   "metadata": {},
   "outputs": [],
   "source": []
  }
 ],
 "metadata": {
  "kernelspec": {
   "display_name": "Python 3",
   "language": "python",
   "name": "python3"
  },
  "language_info": {
   "codemirror_mode": {
    "name": "ipython",
    "version": 3
   },
   "file_extension": ".py",
   "mimetype": "text/x-python",
   "name": "python",
   "nbconvert_exporter": "python",
   "pygments_lexer": "ipython3",
   "version": "3.8.8"
  }
 },
 "nbformat": 4,
 "nbformat_minor": 5
}
